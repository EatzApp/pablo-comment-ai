{
 "cells": [
  {
   "cell_type": "code",
   "execution_count": 16,
   "metadata": {},
   "outputs": [],
   "source": [
    "from transformers import DistilBertTokenizer\n",
    "from transformers import TFDistilBertForSequenceClassification, create_optimizer\n",
    "from transformers import TextClassificationPipeline\n",
    "\n",
    "import tensorflow as tf\n",
    "import pandas as pd\n",
    "import json\n",
    "import gc\n",
    "import matplotlib.pyplot as plt\n",
    "import seaborn as sns\n",
    "import nltk\n",
    "\n",
    "from sklearn.model_selection import train_test_split\n",
    "from nltk.tokenize import sent_tokenize\n",
    "import re\n",
    "\n",
    "from tqdm import tqdm"
   ]
  },
  {
   "cell_type": "code",
   "execution_count": 62,
   "metadata": {},
   "outputs": [
    {
     "name": "stdout",
     "output_type": "stream",
     "text": [
      "Total memory: 8.00 GB\n",
      "Available memory: 1.47 GB\n",
      "Used memory: 2.68 GB\n",
      "Memory percentage: 81.6%\n"
     ]
    }
   ],
   "source": [
    "import psutil\n",
    "\n",
    "def check_memory():\n",
    "    try:\n",
    "        mem = psutil.virtual_memory()\n",
    "        print(f\"Total memory: {mem.total / (1024 ** 3):.2f} GB\")\n",
    "        print(f\"Available memory: {mem.available / (1024 ** 3):.2f} GB\")\n",
    "        print(f\"Used memory: {mem.used / (1024 ** 3):.2f} GB\")\n",
    "        print(f\"Memory percentage: {mem.percent}%\")\n",
    "    except Exception as e:\n",
    "        print(f\"An error occurred: {str(e)}\")\n",
    "\n",
    "check_memory()\n"
   ]
  },
  {
   "cell_type": "code",
   "execution_count": 18,
   "metadata": {},
   "outputs": [],
   "source": [
    "# Define and read the CSV file\n",
    "file_path = '/Users/pablonieuwenhuys/EatzAI/training/restaurant_reviews.csv'\n",
    "data = pd.read_csv(file_path, delimiter=';', quotechar='\"', on_bad_lines = \"skip\")\n"
   ]
  },
  {
   "cell_type": "code",
   "execution_count": 39,
   "metadata": {},
   "outputs": [],
   "source": [
    "# Strip any leading or trailing spaces from column names\n",
    "data.columns = data.columns.str.strip()"
   ]
  },
  {
   "cell_type": "code",
   "execution_count": 19,
   "metadata": {},
   "outputs": [
    {
     "name": "stderr",
     "output_type": "stream",
     "text": [
      "[nltk_data] Downloading package punkt to\n",
      "[nltk_data]     /Users/pablonieuwenhuys/nltk_data...\n",
      "[nltk_data]   Package punkt is already up-to-date!\n"
     ]
    },
    {
     "data": {
      "text/plain": [
       "True"
      ]
     },
     "execution_count": 19,
     "metadata": {},
     "output_type": "execute_result"
    }
   ],
   "source": [
    "nltk.download('punkt')"
   ]
  },
  {
   "cell_type": "code",
   "execution_count": 20,
   "metadata": {},
   "outputs": [],
   "source": [
    "data['Sentences'] = data['Review'].apply(sent_tokenize)"
   ]
  },
  {
   "cell_type": "code",
   "execution_count": 40,
   "metadata": {},
   "outputs": [],
   "source": [
    "# Preprocess the text\n",
    "def preprocess_text(text):\n",
    "    text = text.lower()  # Convert to lowercase\n",
    "    text = re.sub(r'[^\\w\\s]', '', text)  # Remove punctuation\n",
    "    return text\n",
    "\n",
    "data['Review'] = data['Review'].apply(preprocess_text)"
   ]
  },
  {
   "cell_type": "code",
   "execution_count": 22,
   "metadata": {},
   "outputs": [],
   "source": [
    "# Flatten the list of sentences and create a corresponding list of labels (optional)\n",
    "sentence_data = []\n",
    "sentence_review_indices = []\n",
    "\n",
    "for idx, sentences in enumerate(data['Sentences']):\n",
    "    for sentence in sentences:\n",
    "        sentence_data.append(sentence)\n",
    "        sentence_review_indices.append(idx)"
   ]
  },
  {
   "cell_type": "code",
   "execution_count": 41,
   "metadata": {},
   "outputs": [],
   "source": [
    "# Ensure all entries in the 'Review' column are strings\n",
    "data['Review'] = data['Review'].astype(str)\n",
    "data['count'] = data['Review'].apply(lambda x: len(x.split()))"
   ]
  },
  {
   "cell_type": "code",
   "execution_count": 25,
   "metadata": {},
   "outputs": [],
   "source": [
    "tokenizer = DistilBertTokenizer.from_pretrained('distilbert-base-uncased')"
   ]
  },
  {
   "cell_type": "code",
   "execution_count": 26,
   "metadata": {},
   "outputs": [],
   "source": [
    "# Tokenize the sentences using DistilBERT tokenizer\n",
    "sentence_encodings = tokenizer(sentence_data, truncation=True, padding=True)"
   ]
  },
  {
   "cell_type": "code",
   "execution_count": 27,
   "metadata": {},
   "outputs": [],
   "source": [
    "# Prepare TensorFlow dataset for sentence classification\n",
    "sentence_dataset = tf.data.Dataset.from_tensor_slices(dict(sentence_encodings))"
   ]
  },
  {
   "cell_type": "code",
   "execution_count": 29,
   "metadata": {},
   "outputs": [
    {
     "name": "stderr",
     "output_type": "stream",
     "text": [
      "Some weights of the PyTorch model were not used when initializing the TF 2.0 model TFDistilBertForSequenceClassification: ['vocab_layer_norm.bias', 'vocab_transform.weight', 'vocab_projector.bias', 'vocab_layer_norm.weight', 'vocab_transform.bias']\n",
      "- This IS expected if you are initializing TFDistilBertForSequenceClassification from a PyTorch model trained on another task or with another architecture (e.g. initializing a TFBertForSequenceClassification model from a BertForPreTraining model).\n",
      "- This IS NOT expected if you are initializing TFDistilBertForSequenceClassification from a PyTorch model that you expect to be exactly identical (e.g. initializing a TFBertForSequenceClassification model from a BertForSequenceClassification model).\n",
      "Some weights or buffers of the TF 2.0 model TFDistilBertForSequenceClassification were not initialized from the PyTorch model and are newly initialized: ['pre_classifier.weight', 'pre_classifier.bias', 'classifier.weight', 'classifier.bias']\n",
      "You should probably TRAIN this model on a down-stream task to be able to use it for predictions and inference.\n"
     ]
    }
   ],
   "source": [
    "model = TFDistilBertForSequenceClassification.from_pretrained('distilbert-base-uncased', num_labels=3)"
   ]
  },
  {
   "cell_type": "code",
   "execution_count": 48,
   "metadata": {},
   "outputs": [],
   "source": [
    "data['encoded_text'] = data['Label'].astype('category').cat.codes\n",
    "\n",
    "data_texts = data['Review'].to_list()\n",
    "\n",
    "data_labels = data['encoded_text'].to_list()\n",
    "\n",
    "train_texts, val_texts, train_labels, val_labels = train_test_split(\n",
    "    data_texts, data_labels, test_size=0.2, random_state=0)\n",
    "\n",
    "train_encodings = tokenizer(train_texts, truncation = True, padding = True  )\n",
    "\n",
    "val_encodings = tokenizer(val_texts, truncation = True, padding = True )\n",
    "\n",
    "train_dataset = tf.data.Dataset.from_tensor_slices((\n",
    "    dict(train_encodings),\n",
    "    train_labels\n",
    "))\n",
    "\n",
    "\n",
    "val_dataset = tf.data.Dataset.from_tensor_slices((\n",
    "    dict(val_encodings),\n",
    "    val_labels\n",
    "))\n",
    "\n",
    "# Define the optimizer\n",
    "num_train_steps = len(train_dataset) * 7  # Assuming 7 epochs\n",
    "optimizer, lr_schedule = create_optimizer(\n",
    "    init_lr=5e-5,\n",
    "    num_train_steps=num_train_steps,\n",
    "    num_warmup_steps=500\n",
    ")\n",
    "\n",
    "# Compile the model\n",
    "model.compile(optimizer=optimizer, loss=model.compute_loss, metrics=['accuracy'])\n",
    "\n",
    "for batch in train_dataset.take(1):\n",
    "    x, y = batch\n",
    "    print(\"Inputs:\", x)\n",
    "    print(\"Labels:\", y)\n",
    "\n",
    "    model.compile(\n",
    "    optimizer=optimizer,\n",
    "    loss=tf.keras.losses.SparseCategoricalCrossentropy(from_logits=True),\n",
    "    metrics=['accuracy']\n",
    ")\n",
    "    \n",
    "    # Train the model\n",
    "history = model.fit(train_dataset.batch(16), epochs=7, validation_data=val_dataset.batch(64))"
   ]
  },
  {
   "cell_type": "code",
   "execution_count": 30,
   "metadata": {},
   "outputs": [],
   "source": [
    "tf.config.run_functions_eagerly(True)"
   ]
  },
  {
   "cell_type": "code",
   "execution_count": 52,
   "metadata": {},
   "outputs": [
    {
     "name": "stdout",
     "output_type": "stream",
     "text": [
      "1/1 [==============================] - 0s 310ms/step\n"
     ]
    }
   ],
   "source": [
    "# Perform sentence classification using the DistilBERT model\n",
    "sentence_predictions = model.predict(sentence_dataset.batch(64))"
   ]
  },
  {
   "cell_type": "code",
   "execution_count": 54,
   "metadata": {},
   "outputs": [],
   "source": [
    "# Decode the predicted labels\n",
    "predicted_labels = tf.argmax(sentence_predictions.logits, axis=1).numpy()"
   ]
  },
  {
   "cell_type": "code",
   "execution_count": 55,
   "metadata": {},
   "outputs": [],
   "source": [
    "# Add predicted labels back to the original DataFrame\n",
    "data['Sentence_Predictions'] = data['Sentences'].apply(lambda x: [])\n",
    "\n",
    "for idx, sentences in enumerate(data['Sentences']):\n",
    "    start_idx = sum(len(data['Sentences'].iloc[i]) for i in range(idx))\n",
    "    end_idx = start_idx + len(sentences)\n",
    "    predictions = predicted_labels[start_idx:end_idx]\n",
    "    data.at[idx, 'Sentence_Predictions'] = list(predictions)"
   ]
  },
  {
   "cell_type": "code",
   "execution_count": null,
   "metadata": {},
   "outputs": [],
   "source": [
    "history = model.fit(train_dataset.batch(16), epochs=5, validation_data=val_dataset.batch(16))"
   ]
  },
  {
   "cell_type": "code",
   "execution_count": 56,
   "metadata": {},
   "outputs": [
    {
     "name": "stdout",
     "output_type": "stream",
     "text": [
      "Original Review: id recommend the fried catfish cheesy grits everything was good though\n",
      "Sentences: [\"I'd recommend the Fried Catfish Cheesy Grits, everything was good though.\"]\n",
      "Predicted Labels: [2]\n"
     ]
    }
   ],
   "source": [
    "review_idx = 1  # Change this index to look at different reviews\n",
    "print(\"Original Review:\", data['Review'].iloc[review_idx])\n",
    "print(\"Sentences:\", data['Sentences'].iloc[review_idx])\n",
    "print(\"Predicted Labels:\", data['Sentence_Predictions'].iloc[review_idx])\n"
   ]
  },
  {
   "cell_type": "code",
   "execution_count": 50,
   "metadata": {},
   "outputs": [
    {
     "name": "stdout",
     "output_type": "stream",
     "text": [
      "      Label  encoded_text\n",
      "0      food             1\n",
      "3   service             2\n",
      "4  ambiance             0\n"
     ]
    }
   ],
   "source": [
    "print(data[['Label', 'encoded_text']].drop_duplicates())"
   ]
  },
  {
   "cell_type": "code",
   "execution_count": 61,
   "metadata": {},
   "outputs": [
    {
     "name": "stdout",
     "output_type": "stream",
     "text": [
      "                                              Review  \\\n",
      "0  excellent food  my highlights were definitely ...   \n",
      "1  id recommend the fried catfish cheesy grits ev...   \n",
      "2  excellent spot in the city if youre craving so...   \n",
      "3           cool waiter with spot on recommendations   \n",
      "4  the atmosphere was also great jazzy music and ...   \n",
      "\n",
      "                                           Sentences Sentence_Predictions  \n",
      "0  [Excellent food - my highlights were definitel...            [2, 2, 2]  \n",
      "1  [I'd recommend the Fried Catfish Cheesy Grits,...                  [2]  \n",
      "2  [Excellent spot in the City if you're craving ...                  [2]  \n",
      "3        [Cool waiter with spot on recommendations.]                  [2]  \n",
      "4  [The atmosphere was also great, jazzy music an...                  [2]  \n"
     ]
    }
   ],
   "source": [
    "# Display the first few rows of the DataFrame to see the sentence predictions\n",
    "print(data[['Review', 'Sentences', 'Sentence_Predictions']].head(5))\n"
   ]
  },
  {
   "cell_type": "code",
   "execution_count": null,
   "metadata": {},
   "outputs": [],
   "source": [
    "import matplotlib.pyplot as plt\n",
    "\n",
    "plt.plot(history.history['accuracy'], label='train_accuracy')\n",
    "plt.plot(history.history['val_accuracy'], label='val_accuracy')\n",
    "plt.xlabel('Epochs')\n",
    "plt.ylabel('Accuracy')\n",
    "plt.legend()\n",
    "plt.show()\n",
    "\n",
    "plt.plot(history.history['loss'], label='train_loss')\n",
    "plt.plot(history.history['val_loss'], label='val_loss')\n",
    "plt.xlabel('Epochs')\n",
    "plt.ylabel('Loss')\n",
    "plt.legend()\n",
    "plt.show()"
   ]
  },
  {
   "cell_type": "code",
   "execution_count": 42,
   "metadata": {},
   "outputs": [
    {
     "data": {
      "text/plain": [
       "<Figure size 800x800 with 0 Axes>"
      ]
     },
     "metadata": {},
     "output_type": "display_data"
    },
    {
     "data": {
      "image/png": "[encoded data removed]",
      "text/plain": [
       "<Figure size 500x500 with 1 Axes>"
      ]
     },
     "metadata": {},
     "output_type": "display_data"
    }
   ],
   "source": [
    "plt.figure(figsize= (8, 8))\n",
    "\n",
    "sns.displot(data['count'])\n",
    "#change 60 for the number of words axis to change\n",
    "plt.xlim(0, 60)\n",
    "\n",
    "plt.xlabel('The num of words ', fontsize = 16)\n",
    "plt.title(\"The Number of Words Distribution\", fontsize = 18)\n",
    "plt.show()"
   ]
  },
  {
   "cell_type": "code",
   "execution_count": 46,
   "metadata": {},
   "outputs": [],
   "source": [
    "label_count = data['Label'].value_counts()\n",
    "\n",
    "labels = label_count.index"
   ]
  },
  {
   "cell_type": "code",
   "execution_count": 44,
   "metadata": {},
   "outputs": [
    {
     "data": {
      "image/png": "[encoded data removed]",
      "text/plain": [
       "<Figure size 1200x500 with 1 Axes>"
      ]
     },
     "metadata": {},
     "output_type": "display_data"
    }
   ],
   "source": [
    "fig = plt.figure(figsize= (12, 5))\n",
    "\n",
    "ax = fig.add_subplot(111)\n",
    "\n",
    "sns.barplot(x = label_count.index, y = label_count )\n",
    "\n",
    "for a, p in enumerate(ax.patches):\n",
    "    ax.annotate(f'{labels[a]}\\n' + format(p.get_height(), '.0f'), \n",
    "                xy=(p.get_x() + p.get_width() / 2.0, p.get_height()), \n",
    "                xytext=(0, -25), \n",
    "                size=13, \n",
    "                color='white', \n",
    "                ha='center', \n",
    "                va='center', \n",
    "                textcoords='offset points', \n",
    "                bbox=dict(boxstyle='round', facecolor='none', edgecolor='white', alpha=0.5))\n",
    "\n",
    "plt.xlabel('Fields', size=15)\n",
    "plt.ylabel('The Number of Reviews', size=15)\n",
    "plt.xticks(size=12)\n",
    "plt.title(\"The number of reviews by fields\", size=18)\n",
    "plt.show()"
   ]
  }
 ],
 "metadata": {
  "kernelspec": {
   "display_name": "clean_tf_env",
   "language": "python",
   "name": "python3"
  },
  "language_info": {
   "codemirror_mode": {
    "name": "ipython",
    "version": 3
   },
   "file_extension": ".py",
   "mimetype": "text/x-python",
   "name": "python",
   "nbconvert_exporter": "python",
   "pygments_lexer": "ipython3",
   "version": "3.9.19"
  }
 },
 "nbformat": 4,
 "nbformat_minor": 2
}
