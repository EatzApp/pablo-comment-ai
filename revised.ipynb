{
 "cells": [
  {
   "cell_type": "markdown",
   "metadata": {},
   "source": []
  },
  {
   "cell_type": "code",
   "execution_count": 158,
   "metadata": {},
   "outputs": [],
   "source": [
    "import json\n",
    "\n",
    "import nltk\n",
    "from nltk.corpus import wordnet\n",
    "\n",
    "import random\n",
    "import re\n",
    "import tensorflow as tf\n",
    "\n",
    "from sklearn.model_selection import train_test_split\n",
    "from sklearn.preprocessing import MultiLabelBinarizer\n",
    "\n",
    "from transformers import DistilBertTokenizer, TFDistilBertForSequenceClassification, create_optimizer\n",
    "from transformers import T5ForConditionalGeneration, T5Tokenizer\n",
    "\n",
    "import matplotlib.pyplot as plt\n",
    "import numpy as np\n",
    "import pandas as pd\n"
   ]
  },
  {
   "cell_type": "code",
   "execution_count": 159,
   "metadata": {},
   "outputs": [
    {
     "name": "stderr",
     "output_type": "stream",
     "text": [
      "Special tokens have been added in the vocabulary, make sure the associated word embeddings are fine-tuned or trained.\n"
     ]
    },
    {
     "name": "stdout",
     "output_type": "stream",
     "text": [
      "Paraphrase 1: True\n",
      "Paraphrase 2: positive\n",
      "Paraphrase 3: negative\n",
      "Paraphrase 4: Falsch\n",
      "Paraphrase 5: Falses\n"
     ]
    }
   ],
   "source": [
    "\n",
    "# Load the T5 model and tokenizer\n",
    "model = T5ForConditionalGeneration.from_pretrained('t5-base')\n",
    "tokenizer = T5Tokenizer.from_pretrained('t5-base')\n",
    "\n",
    "def paraphrase(sentence, num_return_sequences=5, num_beams=5):\n",
    "    # Preprocess the input sentence\n",
    "    text = \"paraphrase: \" + sentence + \" </s>\"\n",
    "    encoding = tokenizer.encode_plus(text, max_length=512, padding='max_length', return_tensors=\"pt\")\n",
    "    \n",
    "    # Generate paraphrases\n",
    "    input_ids, attention_mask = encoding[\"input_ids\"], encoding[\"attention_mask\"]\n",
    "    outputs = model.generate(\n",
    "        input_ids=input_ids, attention_mask=attention_mask,\n",
    "        max_length=512,\n",
    "        num_beams=num_beams,\n",
    "        num_return_sequences=num_return_sequences,\n",
    "        repetition_penalty=2.5,\n",
    "        length_penalty=1.0,\n",
    "        early_stopping=True\n",
    "    )\n",
    "    \n",
    "    # Decode and return the paraphrased sentences\n",
    "    paraphrases = [tokenizer.decode(output, skip_special_tokens=True, clean_up_tokenization_spaces=True) for output in outputs]\n",
    "    return paraphrases\n",
    "\n",
    "# Example usage\n",
    "original_sentence = \"The restaurant's aesthetic, too, has grown with time, now an Instagram-worthy ambiance from every corner.\"\n",
    "paraphrased_sentences = paraphrase(original_sentence, num_return_sequences=5)\n",
    "\n",
    "for i, sentence in enumerate(paraphrased_sentences):\n",
    "    print(f\"Paraphrase {i+1}: {sentence}\")"
   ]
  },
  {
   "cell_type": "code",
   "execution_count": 160,
   "metadata": {},
   "outputs": [],
   "source": [
    "# Step 1: Load the JSON file\n",
    "with open('/Users/pablonieuwenhuys/EatzAI/latest.json', 'r') as f:\n",
    "    data = json.load(f)"
   ]
  },
  {
   "cell_type": "code",
   "execution_count": 161,
   "metadata": {},
   "outputs": [
    {
     "name": "stdout",
     "output_type": "stream",
     "text": [
      "Total number of sentences generated (including original and augmented): 2356\n"
     ]
    }
   ],
   "source": [
    "\n",
    "augmented_sentences = []\n",
    "augmented_labels = []\n",
    "\n",
    "for item in data:\n",
    "    text = item.get('data', {}).get('text', \"\")\n",
    "    annotations = item.get('annotations', [])\n",
    "    if annotations and 'result' in annotations[0]:\n",
    "        results = annotations[0]['result']\n",
    "        if results and 'value' in results[0] and 'choices' in results[0]['value']:\n",
    "            sentence_labels = results[0]['value']['choices']\n",
    "        else:\n",
    "            sentence_labels = []\n",
    "    else:\n",
    "        sentence_labels = []\n",
    "\n",
    "    # Assuming 'Ambiance' and 'Service' are underrepresented\n",
    "    if 'ambiance' in sentence_labels or 'service' in sentence_labels:\n",
    "        # Generate paraphrases\n",
    "        paraphrased_sentences = paraphrase(text, num_return_sequences=5)\n",
    "        for paraphrased_sentence in paraphrased_sentences:\n",
    "            augmented_sentences.append(paraphrased_sentence)\n",
    "            augmented_labels.append(sentence_labels)\n",
    "\n",
    "# Combine original and augmented data\n",
    "for item in data:\n",
    "    text = item.get('data', {}).get('text', \"\")\n",
    "    annotations = item.get('annotations', [])\n",
    "    if annotations and 'result' in annotations[0]:\n",
    "        results = annotations[0]['result']\n",
    "        if results and 'value' in results[0] and 'choices' in results[0]['value']:\n",
    "            sentence_labels = results[0]['value']['choices']\n",
    "        else:\n",
    "            sentence_labels = []\n",
    "    else:\n",
    "        sentence_labels = []\n",
    "\n",
    "    augmented_sentences.append(text)\n",
    "    augmented_labels.append(sentence_labels)\n",
    "\n",
    "# Check the number of sentences generated\n",
    "num_sentences = len(augmented_sentences)\n",
    "print(f\"Total number of sentences generated (including original and augmented): {num_sentences}\")\n"
   ]
  },
  {
   "cell_type": "code",
   "execution_count": 162,
   "metadata": {},
   "outputs": [
    {
     "name": "stderr",
     "output_type": "stream",
     "text": [
      "[nltk_data] Downloading package punkt to\n",
      "[nltk_data]     /Users/pablonieuwenhuys/nltk_data...\n",
      "[nltk_data]   Package punkt is already up-to-date!\n"
     ]
    }
   ],
   "source": [
    "# Step 3: Preprocess Text\n",
    "def preprocess_text(text):\n",
    "    text = text.lower()  # Convert to lowercase\n",
    "    text = re.sub(r'[^\\w\\s]', '', text)  # Remove punctuation\n",
    "    return text\n",
    "\n",
    "nltk.download('punkt')\n",
    "sentences = [preprocess_text(sentence) for sentence in augmented_sentences]\n",
    "labels = augmented_labels"
   ]
  },
  {
   "cell_type": "code",
   "execution_count": 163,
   "metadata": {},
   "outputs": [],
   "source": [
    "# Step 4: Encode Labels\n",
    "mlb = MultiLabelBinarizer()\n",
    "labels_encoded = mlb.fit_transform(labels)"
   ]
  },
  {
   "cell_type": "code",
   "execution_count": 164,
   "metadata": {},
   "outputs": [],
   "source": [
    "# Step 5: Tokenize Sentences using DistilBERT Tokenizer\n",
    "tokenizer = DistilBertTokenizer.from_pretrained('distilbert-base-uncased')\n",
    "encodings = tokenizer(sentences, truncation=True, padding=True)\n",
    "\n",
    "input_ids = encodings['input_ids']\n",
    "attention_masks = encodings['attention_mask']"
   ]
  },
  {
   "cell_type": "code",
   "execution_count": 165,
   "metadata": {},
   "outputs": [],
   "source": [
    "# Step 6: Split the Data into Training and Validation Sets\n",
    "train_input_ids, val_input_ids, train_attention_masks, val_attention_masks, train_labels, val_labels = train_test_split(\n",
    "    input_ids, attention_masks, labels_encoded, test_size=0.2, random_state=0\n",
    ")\n",
    "\n",
    "# Convert input_ids and attention_masks to TensorFlow datasets\n",
    "train_dataset = tf.data.Dataset.from_tensor_slices((\n",
    "    {\n",
    "        'input_ids': train_input_ids,\n",
    "        'attention_mask': train_attention_masks\n",
    "    },\n",
    "    train_labels\n",
    "))\n",
    "\n",
    "val_dataset = tf.data.Dataset.from_tensor_slices((\n",
    "    {\n",
    "        'input_ids': val_input_ids,\n",
    "        'attention_mask': val_attention_masks\n",
    "    },\n",
    "    val_labels\n",
    "))\n"
   ]
  },
  {
   "cell_type": "code",
   "execution_count": 166,
   "metadata": {},
   "outputs": [
    {
     "name": "stderr",
     "output_type": "stream",
     "text": [
      "Some weights of the PyTorch model were not used when initializing the TF 2.0 model TFDistilBertForSequenceClassification: ['vocab_layer_norm.weight', 'vocab_transform.bias', 'vocab_projector.bias', 'vocab_layer_norm.bias', 'vocab_transform.weight']\n",
      "- This IS expected if you are initializing TFDistilBertForSequenceClassification from a PyTorch model trained on another task or with another architecture (e.g. initializing a TFBertForSequenceClassification model from a BertForPreTraining model).\n",
      "- This IS NOT expected if you are initializing TFDistilBertForSequenceClassification from a PyTorch model that you expect to be exactly identical (e.g. initializing a TFBertForSequenceClassification model from a BertForSequenceClassification model).\n",
      "Some weights or buffers of the TF 2.0 model TFDistilBertForSequenceClassification were not initialized from the PyTorch model and are newly initialized: ['pre_classifier.weight', 'pre_classifier.bias', 'classifier.weight', 'classifier.bias']\n",
      "You should probably TRAIN this model on a down-stream task to be able to use it for predictions and inference.\n",
      "WARNING:absl:At this time, the v2.11+ optimizer `tf.keras.optimizers.Adam` runs slowly on M1/M2 Macs, please use the legacy TF-Keras optimizer instead, located at `tf.keras.optimizers.legacy.Adam`.\n"
     ]
    }
   ],
   "source": [
    "# Step 7: Define and Compile the Model\n",
    "model = TFDistilBertForSequenceClassification.from_pretrained('distilbert-base-uncased', num_labels=labels_encoded.shape[1])\n",
    "\n",
    "for layer in model.layers[:-2]:\n",
    "    layer.trainable = False\n",
    "\n",
    "num_train_steps = len(train_dataset) * 7  # Assuming 7 epochs\n",
    "optimizer, lr_schedule = create_optimizer(\n",
    "    init_lr=3e-5,\n",
    "    num_train_steps=num_train_steps,\n",
    "    num_warmup_steps=100\n",
    ")\n",
    "\n",
    "model.compile(\n",
    "    optimizer=optimizer,\n",
    "    loss=tf.keras.losses.BinaryCrossentropy(from_logits=True),\n",
    "    metrics=['accuracy']\n",
    ")"
   ]
  },
  {
   "cell_type": "code",
   "execution_count": 167,
   "metadata": {},
   "outputs": [],
   "source": [
    "#tf.config.run_functions_eagerly(True)"
   ]
  },
  {
   "cell_type": "code",
   "execution_count": 168,
   "metadata": {},
   "outputs": [
    {
     "name": "stdout",
     "output_type": "stream",
     "text": [
      "Epoch 1/5\n",
      "236/236 [==============================] - 64s 265ms/step - loss: 0.6607 - accuracy: 0.3880 - val_loss: 0.6334 - val_accuracy: 0.3771\n",
      "Epoch 2/5\n",
      "236/236 [==============================] - 64s 271ms/step - loss: 0.6105 - accuracy: 0.4087 - val_loss: 0.5973 - val_accuracy: 0.3771\n",
      "Epoch 3/5\n",
      "236/236 [==============================] - 66s 279ms/step - loss: 0.5808 - accuracy: 0.4087 - val_loss: 0.5770 - val_accuracy: 0.3771\n",
      "Epoch 4/5\n",
      "236/236 [==============================] - 76s 323ms/step - loss: 0.5636 - accuracy: 0.4087 - val_loss: 0.5653 - val_accuracy: 0.3771\n",
      "Epoch 5/5\n",
      "236/236 [==============================] - 73s 307ms/step - loss: 0.5532 - accuracy: 0.4087 - val_loss: 0.5580 - val_accuracy: 0.3771\n"
     ]
    }
   ],
   "source": [
    "# Step 8: Train the Model\n",
    "history = model.fit(\n",
    "    train_dataset.batch(8),\n",
    "    epochs=5,\n",
    "    validation_data=val_dataset.batch(16),\n",
    "    callbacks=[tf.keras.callbacks.EarlyStopping(monitor='val_loss', patience=2, restore_best_weights=True)]\n",
    ")"
   ]
  },
  {
   "cell_type": "code",
   "execution_count": 169,
   "metadata": {},
   "outputs": [
    {
     "name": "stdout",
     "output_type": "stream",
     "text": [
      "30/30 [==============================] - 3s 103ms/step\n",
      "Classification Report:\n",
      "              precision    recall  f1-score   support\n",
      "\n",
      "    ambiance       0.00      0.00      0.00       132\n",
      "        food       0.00      0.00      0.00       161\n",
      "        none       0.00      0.00      0.00        38\n",
      "     service       0.53      1.00      0.69       250\n",
      "\n",
      "   micro avg       0.53      0.43      0.48       581\n",
      "   macro avg       0.13      0.25      0.17       581\n",
      "weighted avg       0.23      0.43      0.30       581\n",
      " samples avg       0.53      0.45      0.48       581\n",
      "\n",
      "Precision: 0.5308\n",
      "Recall: 0.4303\n",
      "F1-Score: 0.4753\n"
     ]
    }
   ],
   "source": [
    "# Step 9: Evaluate the Model\n",
    "val_predictions = model.predict(val_dataset.batch(16))\n",
    "val_probs = tf.nn.sigmoid(val_predictions.logits)\n",
    "val_preds = (val_probs > 0.5).numpy()  # Adjust threshold as needed\n",
    "\n",
    "# Print evaluation metrics (e.g., precision, recall, F1-score)\n",
    "from sklearn.metrics import classification_report, precision_score, recall_score, f1_score\n",
    "\n",
    "print(\"Classification Report:\")\n",
    "print(classification_report(val_labels, val_preds, target_names=mlb.classes_, zero_division=0))\n",
    "\n",
    "precision = precision_score(val_labels, val_preds, average='micro', zero_division=0)\n",
    "recall = recall_score(val_labels, val_preds, average='micro', zero_division=0)\n",
    "f1 = f1_score(val_labels, val_preds, average='micro', zero_division=0)\n",
    "\n",
    "print(f\"Precision: {precision:.4f}\")\n",
    "print(f\"Recall: {recall:.4f}\")\n",
    "print(f\"F1-Score: {f1:.4f}\")"
   ]
  },
  {
   "cell_type": "code",
   "execution_count": 170,
   "metadata": {},
   "outputs": [
    {
     "data": {
      "image/png": "[encoded data removed]",
      "text/plain": [
       "<Figure size 1000x600 with 1 Axes>"
      ]
     },
     "metadata": {},
     "output_type": "display_data"
    },
    {
     "name": "stdout",
     "output_type": "stream",
     "text": [
      "3    1302\n",
      "1     752\n",
      "0     612\n",
      "2     213\n",
      "Name: Count, dtype: int64 3     service\n",
      "1        food\n",
      "0    ambiance\n",
      "2        none\n",
      "Name: Label, dtype: object\n"
     ]
    }
   ],
   "source": [
    "\n",
    "# Assuming labels_encoded is a numpy array with shape (num_samples, num_labels)\n",
    "# and mlb is your MultiLabelBinarizer instance with the class names\n",
    "\n",
    "# Sum over the samples (axis=0) to count the number of occurrences for each label\n",
    "label_counts = np.sum(labels_encoded, axis=0)\n",
    "\n",
    "# Convert to a pandas DataFrame for easier plotting\n",
    "label_counts_df = pd.DataFrame({\n",
    "    'Label': mlb.classes_,\n",
    "    'Count': label_counts\n",
    "})\n",
    "\n",
    "# Sort the DataFrame by count for better visualization\n",
    "label_counts_df = label_counts_df.sort_values('Count', ascending=False)\n",
    "\n",
    "# Plot the bar chart\n",
    "plt.figure(figsize=(10, 6))\n",
    "plt.bar(label_counts_df['Label'], label_counts_df['Count'], color='skyblue')\n",
    "plt.xlabel('Labels')\n",
    "plt.ylabel('Number of Samples')\n",
    "plt.title('Label Distribution in the Dataset')\n",
    "plt.xticks(rotation=45)\n",
    "plt.show()\n",
    "print(label_counts_df['Count'], label_counts_df['Label'])\n"
   ]
  },
  {
   "cell_type": "code",
   "execution_count": 171,
   "metadata": {},
   "outputs": [
    {
     "data": {
      "image/png": "[encoded data removed]",
      "text/plain": [
       "<Figure size 640x480 with 2 Axes>"
      ]
     },
     "metadata": {},
     "output_type": "display_data"
    }
   ],
   "source": [
    "from sklearn.metrics import confusion_matrix\n",
    "import matplotlib.pyplot as plt\n",
    "import seaborn as sns\n",
    "\n",
    "cm = confusion_matrix(np.argmax(val_labels, axis=1), np.argmax(val_preds, axis=1))\n",
    "sns.heatmap(cm, annot=True, fmt='d', cmap='Blues', xticklabels=mlb.classes_, yticklabels=mlb.classes_)\n",
    "plt.xlabel('Predicted')\n",
    "plt.ylabel('True')\n",
    "plt.show()\n"
   ]
  }
 ],
 "metadata": {
  "kernelspec": {
   "display_name": "clean_tf_env",
   "language": "python",
   "name": "python3"
  },
  "language_info": {
   "codemirror_mode": {
    "name": "ipython",
    "version": 3
   },
   "file_extension": ".py",
   "mimetype": "text/x-python",
   "name": "python",
   "nbconvert_exporter": "python",
   "pygments_lexer": "ipython3",
   "version": "3.9.19"
  }
 },
 "nbformat": 4,
 "nbformat_minor": 2
}
